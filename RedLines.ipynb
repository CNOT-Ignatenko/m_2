{
 "cells": [
  {
   "cell_type": "code",
   "execution_count": 1,
   "id": "389a478e-3742-443a-9b65-e4187938be4f",
   "metadata": {},
   "outputs": [],
   "source": [
    "from redlines import Redlines\n",
    "import re\n"
   ]
  },
  {
   "cell_type": "code",
   "execution_count": 2,
   "id": "f1126710-102d-4e1f-96f4-f18bc39c91a8",
   "metadata": {},
   "outputs": [],
   "source": [
    "def read_file(file_path):\n",
    "    with open(file_path, 'r') as file:\n",
    "        return file.read()\n",
    "\n",
    "def write_diff(file_path, diff):\n",
    "    with open(file_path, 'w') as file:\n",
    "        file.write(diff)\n",
    "\n",
    "def compare_files_redlines(file1_path, file2_path, output_path):\n",
    "    # Read the content of both files\n",
    "    file1_text = read_file(file1_path)\n",
    "    file2_text = read_file(file2_path)\n",
    "    \n",
    "    # Create a Redlines object and generate the diff\n",
    "    redline = Redlines(file1_text, file2_text)\n",
    "    diff= redline.output_markdown\n",
    "\n",
    "    diff = re.sub(r'color:green', r'color:yellow', diff)\n",
    "    \n",
    "    # Write the diff to the output file\n",
    "    write_diff(output_path, diff)\n",
    "    print(f\"Differences written to {output_path}\")\n"
   ]
  },
  {
   "cell_type": "code",
   "execution_count": 3,
   "id": "ae840827-1de7-4dde-89bb-91c0c7a33e87",
   "metadata": {},
   "outputs": [
    {
     "name": "stdout",
     "output_type": "stream",
     "text": [
      "Differences written to dif.md\n"
     ]
    }
   ],
   "source": [
    "# Example usage\n",
    "file1_path = 'original.txt'\n",
    "file2_path = 'amended.txt'\n",
    "output_path = 'dif.md'  # Markdown format for better readability\n",
    "\n",
    "#read_file(file1_path)\n",
    "\n",
    "\n",
    "compare_files_redlines(file1_path, file2_path, output_path)"
   ]
  },
  {
   "cell_type": "code",
   "execution_count": null,
   "id": "a3949630-5af4-4338-aa5d-7c9377d59b1c",
   "metadata": {},
   "outputs": [],
   "source": []
  }
 ],
 "metadata": {
  "kernelspec": {
   "display_name": "Python 3 (ipykernel)",
   "language": "python",
   "name": "python3"
  },
  "language_info": {
   "codemirror_mode": {
    "name": "ipython",
    "version": 3
   },
   "file_extension": ".py",
   "mimetype": "text/x-python",
   "name": "python",
   "nbconvert_exporter": "python",
   "pygments_lexer": "ipython3",
   "version": "3.12.4"
  }
 },
 "nbformat": 4,
 "nbformat_minor": 5
}
